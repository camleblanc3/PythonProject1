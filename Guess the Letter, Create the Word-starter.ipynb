{
 "cells": [
  {
   "cell_type": "markdown",
   "metadata": {},
   "source": [
    "**Create a Letter Guessing Game**\n",
    "\n",
    "Create a program that allows a user 7 chances to guess the correct word. If they do not guess the word after 7 tries, the player loses and the program will print the correct word. Otherwise, the play wins and the game.\n",
    "\n",
    "**How to build the program**\n",
    "* When you start the game, you will need to select a random word from a list of at least 10 words (You have full control over which words you want to use for you program). This will be your secret word. Your secret word will be represented in the program as a group of underscores. For as long as the word is, you should also have that many underscores. \n",
    "\n",
    "* Once the word is selected, your game will commence. Perform a Google search to figure out how to select a random word from a list using Python.<br>\n",
    "**Hint** There's package you can import into your application that does this for you.\n",
    "\n",
    "* The end user will have a total of 7 chances to guess the correct letter from the secret word. If the end user makes 7 incorrect guesses, the game will end.\n",
    "\n",
    "* As you guess the correct letters, the letters you have guess will then take place of the underscores that letter represents. <br>\n",
    "**For Example**: If your secret word is 'watermelon' and  so far you have guessed the letters 'a' and 'e', the word you're trying to guess will appear as follows: _ a _ e _ _ e _ _ _.<br>\n",
    "**Keep in mind** that if you guess a letter that appears more than once in your secret word, make sure that the letter is populated anywhere that letter would be."
   ]
  },
  {
   "cell_type": "code",
   "execution_count": 24,
   "metadata": {},
   "outputs": [
    {
     "name": "stdout",
     "output_type": "stream",
     "text": [
      "Congrats! You won! Good job guessing the player: giannis antetokounmpo\n"
     ]
    }
   ],
   "source": [
    "from IPython.display import clear_output\n",
    "from random import randint\n",
    "words = ['lebron james', 'stephen curry', 'kevin durant', 'andrew wiggins', 'ja morant', 'nikola jokic', 'devin booker', 'rudy gobert',\n",
    "            'chris paul', 'draymond green', 'donovan mitchell', 'luka doncic', ' dejounte murray', 'karlanthony towns', 'trae young', 'jayson tatum', \n",
    "         'joel embiid', 'demar derozan', 'giannis antetokounmpo', 'lamelo ball', 'darius garland', 'james harden', 'zach lavine', 'fred vanvleet', \n",
    "         'jimmy butler', 'khris middleton', 'jarrett allen']\n",
    "\n",
    "def start():\n",
    "        begin = input('Would you like to play Guess The NBA All-Star? yes or no   ')\n",
    "        clear_output()\n",
    "        if begin.lower().strip() == 'yes':\n",
    "            rand = randint(0,26)\n",
    "            answer = words[rand]\n",
    "            game(answer)\n",
    "        else:\n",
    "            quit\n",
    "\n",
    "def game(player):\n",
    "        dash = []\n",
    "        guesses = 7\n",
    "        wrong = []\n",
    "        right = len(player) - 1\n",
    "        for x in player:\n",
    "            if x.isalpha():\n",
    "                dash.append('_')\n",
    "            else:\n",
    "                dash.append(x)\n",
    "        while guesses > 0 and right > 0:\n",
    "            print(f'Welcome to Guess The NBA All-Star! \\nYou have {guesses} guesses left!')\n",
    "            print(f\"Your wrong guesses are: {wrong}\")\n",
    "            print(f'Your word to guess: \\n{\" \".join(dash)}')\n",
    "            guess = input('\\n \\nWhat is the letter you guess?  ')\n",
    "            clear_output()\n",
    "            for index, letter in enumerate(player):\n",
    "                if letter == guess.lower():\n",
    "                    dash[index] = letter\n",
    "                    right -= 1\n",
    "            if guess not in  player:\n",
    "                guesses -= 1\n",
    "                wrong.append(guess)\n",
    "        if guesses == 0:\n",
    "            print(f'You lost! The player was: \\n{player}')\n",
    "        if right == 0:\n",
    "            print(f'Congrats! You won! Good job guessing the player: {player}')\n",
    "            \n",
    "\n",
    "start()\n"
   ]
  },
  {
   "cell_type": "code",
   "execution_count": null,
   "metadata": {},
   "outputs": [],
   "source": []
  },
  {
   "cell_type": "code",
   "execution_count": null,
   "metadata": {},
   "outputs": [],
   "source": []
  },
  {
   "cell_type": "code",
   "execution_count": null,
   "metadata": {},
   "outputs": [],
   "source": []
  },
  {
   "cell_type": "code",
   "execution_count": null,
   "metadata": {},
   "outputs": [],
   "source": []
  },
  {
   "cell_type": "code",
   "execution_count": null,
   "metadata": {},
   "outputs": [],
   "source": []
  },
  {
   "cell_type": "code",
   "execution_count": 26,
   "metadata": {},
   "outputs": [
    {
     "name": "stdout",
     "output_type": "stream",
     "text": [
      "Congrats! You won! Good job guessing the player: nikola jokic\n"
     ]
    }
   ],
   "source": [
    "start()"
   ]
  }
 ],
 "metadata": {
  "kernelspec": {
   "display_name": "Python 3 (ipykernel)",
   "language": "python",
   "name": "python3"
  },
  "language_info": {
   "codemirror_mode": {
    "name": "ipython",
    "version": 3
   },
   "file_extension": ".py",
   "mimetype": "text/x-python",
   "name": "python",
   "nbconvert_exporter": "python",
   "pygments_lexer": "ipython3",
   "version": "3.9.7"
  }
 },
 "nbformat": 4,
 "nbformat_minor": 2
}
